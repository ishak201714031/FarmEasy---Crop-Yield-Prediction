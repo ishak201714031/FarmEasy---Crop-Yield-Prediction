{
 "cells": [
  {
   "cell_type": "code",
   "execution_count": 1,
   "id": "vital-melbourne",
   "metadata": {
    "_cell_guid": "b1076dfc-b9ad-4769-8c92-a6c4dae69d19",
    "_uuid": "8f2839f25d086af736a60e9eeb907d3b93b6e0e5",
    "execution": {
     "iopub.execute_input": "2021-05-30T18:45:51.467354Z",
     "iopub.status.busy": "2021-05-30T18:45:51.466423Z",
     "iopub.status.idle": "2021-05-30T18:45:51.533166Z",
     "shell.execute_reply": "2021-05-30T18:45:51.532321Z",
     "shell.execute_reply.started": "2021-05-30T18:44:35.780110Z"
    },
    "papermill": {
     "duration": 0.07872,
     "end_time": "2021-05-30T18:45:51.533367",
     "exception": false,
     "start_time": "2021-05-30T18:45:51.454647",
     "status": "completed"
    },
    "tags": []
   },
   "outputs": [
    {
     "name": "stdout",
     "output_type": "stream",
     "text": [
      "/kaggle/input/crop-yield-data-bangladesh/Crop yield data.csv\n",
      "<class 'pandas.core.frame.DataFrame'>\n",
      "RangeIndex: 384 entries, 0 to 383\n",
      "Data columns (total 43 columns):\n",
      " #   Column                                                                                   Non-Null Count  Dtype  \n",
      "---  ------                                                                                   --------------  -----  \n",
      " 0   District                                                                                 384 non-null    object \n",
      " 1   Year                                                                                     384 non-null    object \n",
      " 2   Crop Yield Aus(M. Ton/Hectare)                                                           377 non-null    float64\n",
      " 3   Crop Yield Aman(M. Ton/Hectare)                                                          384 non-null    float64\n",
      " 4   Crop Yield Boro(M. Ton/Hectare)                                                          384 non-null    float64\n",
      " 5   Crop Yield Wheat(M. Ton/Hectare)                                                         384 non-null    float64\n",
      " 6   Crop Yield Lentil(M. Ton/Hectare)                                                        384 non-null    float64\n",
      " 7   Crop Yield Maize(M. Ton/Hectare)                                                         384 non-null    float64\n",
      " 8   Annual Rainfall(In millimeter)                                                           384 non-null    int64  \n",
      " 9   Relative Humidity Summer                                                                 380 non-null    float64\n",
      " 10  Relative Humidity Rainy                                                                  380 non-null    float64\n",
      " 11  Relative Humidity Winter                                                                 380 non-null    float64\n",
      " 12  Total Rainfall in Summer(In millimeter)                                                  384 non-null    int64  \n",
      " 13  Total Rainfall in Rainy(In millimeter)                                                   358 non-null    float64\n",
      " 14  Total Rainfall in Winter(In millimeter)                                                  384 non-null    int64  \n",
      " 15  Monthly Average Min Temp. Summer(In Celsius)                                             384 non-null    float64\n",
      " 16  Monthly Average Min Temp. Rainy(In Celsius)                                              384 non-null    float64\n",
      " 17  Monthly Average Min Temp. Winter(In Celsius)                                             384 non-null    float64\n",
      " 18  Monthly Average Max Temp. Summer(In Celsius)                                             384 non-null    float64\n",
      " 19  Monthly Average Max Temp. Rainy(In Celsius)                                              384 non-null    float64\n",
      " 20  Monthly Average Max Temp. Winter(In Celsius)                                             384 non-null    float64\n",
      " 21  Average Max Temp. (In Celsius)                                                           384 non-null    float64\n",
      " 22  Average Min Temp. (In Celsius)                                                           384 non-null    float64\n",
      " 23  Relative Humidity (In Percentage)                                                        384 non-null    int64  \n",
      " 24  Soil Type (Non-calcareous Alluvium)                                                      384 non-null    int64  \n",
      " 25  Soil Type (Calcareous Alluvium)                                                          384 non-null    int64  \n",
      " 26  Soil Type (Acid Sulphate Soils)                                                          384 non-null    int64  \n",
      " 27  Soil Type (Peat)                                                                         384 non-null    int64  \n",
      " 28  Soil Type (Grey Floodplain Soils)                                                        384 non-null    int64  \n",
      " 29  Soil Type (Grey Floodplain Soils and Non-Calcareous brown floodplain soils)              384 non-null    int64  \n",
      " 30  Soil Type (Mixed grey, Dark grey and Brown Floodplain soils)                             384 non-null    int64  \n",
      " 31  Soil Type (Grey Floodplain soils and Non-calcareous Dark grey floodplain soils)          384 non-null    int64  \n",
      " 32  Soil Type (Grey Floodplain Soils and Acid basin clays)                                   384 non-null    int64  \n",
      " 33  Soil Type (Grey Piedmont Soils)                                                          384 non-null    int64  \n",
      " 34  Soil Type (Acid basin clays)                                                             384 non-null    int64  \n",
      " 35  Soil Type (Non-Calcareous Dark grey Floodplain soils)                                    384 non-null    int64  \n",
      " 36  Soil Type (Calcareous dark grey floodplain soils and calcareous brown floodplain soils)  384 non-null    int64  \n",
      " 37  Soil Type (Calcareous dark grey floodplain soils with lime kankar)                       384 non-null    int64  \n",
      " 38  Soil Type (Non-calcareous brown floodplain soils and grey floodplain soils)              384 non-null    int64  \n",
      " 39  Soil Type (Black Terai soils)                                                            384 non-null    int64  \n",
      " 40  Soil Type (Brown Hill soils)                                                             384 non-null    int64  \n",
      " 41  Soil Type (Red-brown Terrace soils)                                                      384 non-null    int64  \n",
      " 42  Soil Type (Grey Terrace soils)                                                           384 non-null    int64  \n",
      "dtypes: float64(18), int64(23), object(2)\n",
      "memory usage: 129.1+ KB\n",
      "<class 'pandas.core.frame.DataFrame'>\n",
      "RangeIndex: 384 entries, 0 to 383\n",
      "Data columns (total 39 columns):\n",
      " #   Column                                                                                   Non-Null Count  Dtype  \n",
      "---  ------                                                                                   --------------  -----  \n",
      " 0   District                                                                                 384 non-null    object \n",
      " 1   Year                                                                                     384 non-null    object \n",
      " 2   Crop Yield Aus(M. Ton/Hectare)                                                           377 non-null    float64\n",
      " 3   Crop Yield Aman(M. Ton/Hectare)                                                          384 non-null    float64\n",
      " 4   Crop Yield Boro(M. Ton/Hectare)                                                          384 non-null    float64\n",
      " 5   Crop Yield Wheat(M. Ton/Hectare)                                                         384 non-null    float64\n",
      " 6   Crop Yield Lentil(M. Ton/Hectare)                                                        384 non-null    float64\n",
      " 7   Crop Yield Maize(M. Ton/Hectare)                                                         384 non-null    float64\n",
      " 8   Relative Humidity Summer                                                                 380 non-null    float64\n",
      " 9   Relative Humidity Rainy                                                                  380 non-null    float64\n",
      " 10  Relative Humidity Winter                                                                 380 non-null    float64\n",
      " 11  Total Rainfall in Summer(In millimeter)                                                  384 non-null    int64  \n",
      " 12  Total Rainfall in Rainy(In millimeter)                                                   358 non-null    float64\n",
      " 13  Total Rainfall in Winter(In millimeter)                                                  384 non-null    int64  \n",
      " 14  Monthly Average Min Temp. Summer(In Celsius)                                             384 non-null    float64\n",
      " 15  Monthly Average Min Temp. Rainy(In Celsius)                                              384 non-null    float64\n",
      " 16  Monthly Average Min Temp. Winter(In Celsius)                                             384 non-null    float64\n",
      " 17  Monthly Average Max Temp. Summer(In Celsius)                                             384 non-null    float64\n",
      " 18  Monthly Average Max Temp. Rainy(In Celsius)                                              384 non-null    float64\n",
      " 19  Monthly Average Max Temp. Winter(In Celsius)                                             384 non-null    float64\n",
      " 20  Soil Type (Non-calcareous Alluvium)                                                      384 non-null    int64  \n",
      " 21  Soil Type (Calcareous Alluvium)                                                          384 non-null    int64  \n",
      " 22  Soil Type (Acid Sulphate Soils)                                                          384 non-null    int64  \n",
      " 23  Soil Type (Peat)                                                                         384 non-null    int64  \n",
      " 24  Soil Type (Grey Floodplain Soils)                                                        384 non-null    int64  \n",
      " 25  Soil Type (Grey Floodplain Soils and Non-Calcareous brown floodplain soils)              384 non-null    int64  \n",
      " 26  Soil Type (Mixed grey, Dark grey and Brown Floodplain soils)                             384 non-null    int64  \n",
      " 27  Soil Type (Grey Floodplain soils and Non-calcareous Dark grey floodplain soils)          384 non-null    int64  \n",
      " 28  Soil Type (Grey Floodplain Soils and Acid basin clays)                                   384 non-null    int64  \n",
      " 29  Soil Type (Grey Piedmont Soils)                                                          384 non-null    int64  \n",
      " 30  Soil Type (Acid basin clays)                                                             384 non-null    int64  \n",
      " 31  Soil Type (Non-Calcareous Dark grey Floodplain soils)                                    384 non-null    int64  \n",
      " 32  Soil Type (Calcareous dark grey floodplain soils and calcareous brown floodplain soils)  384 non-null    int64  \n",
      " 33  Soil Type (Calcareous dark grey floodplain soils with lime kankar)                       384 non-null    int64  \n",
      " 34  Soil Type (Non-calcareous brown floodplain soils and grey floodplain soils)              384 non-null    int64  \n",
      " 35  Soil Type (Black Terai soils)                                                            384 non-null    int64  \n",
      " 36  Soil Type (Brown Hill soils)                                                             384 non-null    int64  \n",
      " 37  Soil Type (Red-brown Terrace soils)                                                      384 non-null    int64  \n",
      " 38  Soil Type (Grey Terrace soils)                                                           384 non-null    int64  \n",
      "dtypes: float64(16), int64(21), object(2)\n",
      "memory usage: 117.1+ KB\n"
     ]
    }
   ],
   "source": [
    "# This Python 3 environment comes with many helpful analytics libraries installed\n",
    "# It is defined by the kaggle/python Docker image: https://github.com/kaggle/docker-python\n",
    "# For example, here's several helpful packages to load\n",
    "\n",
    "import numpy as np # linear algebra\n",
    "import pandas as pd # data processing, CSV file I/O (e.g. pd.read_csv)\n",
    "\n",
    "# Input data files are available in the read-only \"../input/\" directory\n",
    "# For example, running this (by clicking run or pressing Shift+Enter) will list all files under the input directory\n",
    "\n",
    "import os\n",
    "for dirname, _, filenames in os.walk('/kaggle/input'):\n",
    "    for filename in filenames:\n",
    "        print(os.path.join(dirname, filename))\n",
    "\n",
    "# You can write up to 20GB to the current directory (/kaggle/working/) that gets preserved as output when you create a version using \"Save & Run All\" \n",
    "# You can also write temporary files to /kaggle/temp/, but they won't be saved outside of the current session\n",
    "\n",
    "df_main = pd.read_csv('../input/crop-yield-data-bangladesh/Crop yield data.csv')\n",
    "df_main.info()\n",
    "\n",
    "df = df_main\n",
    "df = df.drop(df.columns[[8, 21, 22, 23]], axis = 1, inplace = False)\n",
    "df.info()"
   ]
  },
  {
   "cell_type": "code",
   "execution_count": 2,
   "id": "intensive-nomination",
   "metadata": {
    "execution": {
     "iopub.execute_input": "2021-05-30T18:45:51.566623Z",
     "iopub.status.busy": "2021-05-30T18:45:51.566075Z",
     "iopub.status.idle": "2021-05-30T18:45:51.569493Z",
     "shell.execute_reply": "2021-05-30T18:45:51.568977Z",
     "shell.execute_reply.started": "2021-05-30T18:44:35.831393Z"
    },
    "papermill": {
     "duration": 0.026821,
     "end_time": "2021-05-30T18:45:51.569600",
     "exception": false,
     "start_time": "2021-05-30T18:45:51.542779",
     "status": "completed"
    },
    "tags": []
   },
   "outputs": [
    {
     "name": "stdout",
     "output_type": "stream",
     "text": [
      "<class 'pandas.core.frame.DataFrame'>\n",
      "RangeIndex: 384 entries, 0 to 383\n",
      "Data columns (total 26 columns):\n",
      " #   Column                                                                                   Non-Null Count  Dtype  \n",
      "---  ------                                                                                   --------------  -----  \n",
      " 0   District                                                                                 384 non-null    object \n",
      " 1   Year                                                                                     384 non-null    object \n",
      " 2   Crop Yield Boro(M. Ton/Hectare)                                                          384 non-null    float64\n",
      " 3   Relative Humidity Winter                                                                 384 non-null    float64\n",
      " 4   Total Rainfall in Winter(In millimeter)                                                  384 non-null    int64  \n",
      " 5   Monthly Average Min Temp. Winter(In Celsius)                                             384 non-null    float64\n",
      " 6   Monthly Average Max Temp. Winter(In Celsius)                                             384 non-null    float64\n",
      " 7   Soil Type (Non-calcareous Alluvium)                                                      384 non-null    int64  \n",
      " 8   Soil Type (Calcareous Alluvium)                                                          384 non-null    int64  \n",
      " 9   Soil Type (Acid Sulphate Soils)                                                          384 non-null    int64  \n",
      " 10  Soil Type (Peat)                                                                         384 non-null    int64  \n",
      " 11  Soil Type (Grey Floodplain Soils)                                                        384 non-null    int64  \n",
      " 12  Soil Type (Grey Floodplain Soils and Non-Calcareous brown floodplain soils)              384 non-null    int64  \n",
      " 13  Soil Type (Mixed grey, Dark grey and Brown Floodplain soils)                             384 non-null    int64  \n",
      " 14  Soil Type (Grey Floodplain soils and Non-calcareous Dark grey floodplain soils)          384 non-null    int64  \n",
      " 15  Soil Type (Grey Floodplain Soils and Acid basin clays)                                   384 non-null    int64  \n",
      " 16  Soil Type (Grey Piedmont Soils)                                                          384 non-null    int64  \n",
      " 17  Soil Type (Acid basin clays)                                                             384 non-null    int64  \n",
      " 18  Soil Type (Non-Calcareous Dark grey Floodplain soils)                                    384 non-null    int64  \n",
      " 19  Soil Type (Calcareous dark grey floodplain soils and calcareous brown floodplain soils)  384 non-null    int64  \n",
      " 20  Soil Type (Calcareous dark grey floodplain soils with lime kankar)                       384 non-null    int64  \n",
      " 21  Soil Type (Non-calcareous brown floodplain soils and grey floodplain soils)              384 non-null    int64  \n",
      " 22  Soil Type (Black Terai soils)                                                            384 non-null    int64  \n",
      " 23  Soil Type (Brown Hill soils)                                                             384 non-null    int64  \n",
      " 24  Soil Type (Red-brown Terrace soils)                                                      384 non-null    int64  \n",
      " 25  Soil Type (Grey Terrace soils)                                                           384 non-null    int64  \n",
      "dtypes: float64(4), int64(20), object(2)\n",
      "memory usage: 78.1+ KB\n"
     ]
    }
   ],
   "source": [
    "df = df.drop(df.columns[[2,3,5,6,7,8,9,11,12,14,15,17,18]], axis = 1, inplace = False)\n",
    "df['Relative Humidity Winter'] = df['Relative Humidity Winter'].fillna(df['Relative Humidity Winter'].mean())\n",
    "df.info()"
   ]
  },
  {
   "cell_type": "code",
   "execution_count": 3,
   "id": "crucial-yugoslavia",
   "metadata": {
    "execution": {
     "iopub.execute_input": "2021-05-30T18:45:51.595195Z",
     "iopub.status.busy": "2021-05-30T18:45:51.594549Z",
     "iopub.status.idle": "2021-05-30T18:45:52.229624Z",
     "shell.execute_reply": "2021-05-30T18:45:52.230078Z",
     "shell.execute_reply.started": "2021-05-30T18:44:35.856105Z"
    },
    "papermill": {
     "duration": 0.651559,
     "end_time": "2021-05-30T18:45:52.230219",
     "exception": false,
     "start_time": "2021-05-30T18:45:51.578660",
     "status": "completed"
    },
    "tags": []
   },
   "outputs": [
    {
     "data": {
      "text/plain": [
       "(345, 26)"
      ]
     },
     "execution_count": 3,
     "metadata": {},
     "output_type": "execute_result"
    }
   ],
   "source": [
    "from scipy.stats import zscore\n",
    "\n",
    "# df['zscore_yield'] = zscore(df['Crop Yield Boro(M. Ton/Hectare)'])\n",
    "# df[(df.zscore_yield > 2.2)|(df.zscore_yield < -2.2)]\n",
    "# df = df.drop(df[(df.zscore_yield > 2.2)|(df.zscore_yield < -2.2)].index)\n",
    "\n",
    "df['zscore_mx_temp'] = zscore(df['Monthly Average Max Temp. Winter(In Celsius)'])\n",
    "df[(df.zscore_mx_temp > 2)|(df.zscore_mx_temp < -2)]\n",
    "df = df.drop(df[(df.zscore_mx_temp > 2)|(df.zscore_mx_temp < -2)].index)\n",
    "\n",
    "df['zscore_hm'] = zscore(df['Relative Humidity Winter'])\n",
    "df[(df.zscore_hm > 2.5)|(df.zscore_hm < -2.5)]\n",
    "df = df.drop(df[(df.zscore_hm > 2.5)|(df.zscore_hm < -2.5)].index)\n",
    "\n",
    "df['zscore_mn_temp'] = zscore(df['Monthly Average Min Temp. Winter(In Celsius)'])\n",
    "df[(df.zscore_mn_temp > 2.5)|(df.zscore_mn_temp < -2.5)]\n",
    "df = df.drop(df[(df.zscore_mn_temp > 2.5)|(df.zscore_mn_temp < -2.5)].index)\n",
    "\n",
    "# df['zscore_rain'] = zscore(df['Total Rainfall in Winter(In millimeter)'])\n",
    "# df[(df.zscore_rain > 3)|(df.zscore_rain < -3)]\n",
    "# df = df.drop(df[(df.zscore_rain > 3)|(df.zscore_rain < -3)].index)\n",
    "\n",
    "# df = df.drop(['zscore_mx_temp', 'zscore_mn_temp', 'zscore_rain', 'zscore_hm'],axis=1)\n",
    "df = df.drop(['zscore_mx_temp', 'zscore_hm', 'zscore_mn_temp'],axis=1)\n",
    "df.shape"
   ]
  },
  {
   "cell_type": "code",
   "execution_count": 4,
   "id": "welcome-pantyhose",
   "metadata": {
    "execution": {
     "iopub.execute_input": "2021-05-30T18:45:52.251903Z",
     "iopub.status.busy": "2021-05-30T18:45:52.251073Z",
     "iopub.status.idle": "2021-05-30T18:45:52.284386Z",
     "shell.execute_reply": "2021-05-30T18:45:52.285031Z",
     "shell.execute_reply.started": "2021-05-30T18:44:35.886862Z"
    },
    "papermill": {
     "duration": 0.045469,
     "end_time": "2021-05-30T18:45:52.285182",
     "exception": false,
     "start_time": "2021-05-30T18:45:52.239713",
     "status": "completed"
    },
    "tags": []
   },
   "outputs": [
    {
     "name": "stdout",
     "output_type": "stream",
     "text": [
      "<class 'pandas.core.frame.DataFrame'>\n",
      "Int64Index: 345 entries, 0 to 383\n",
      "Data columns (total 25 columns):\n",
      " #   Column                                                                                   Non-Null Count  Dtype  \n",
      "---  ------                                                                                   --------------  -----  \n",
      " 0   District                                                                                 345 non-null    object \n",
      " 1   Year                                                                                     345 non-null    object \n",
      " 2   Relative Humidity Winter                                                                 345 non-null    float64\n",
      " 3   Total Rainfall in Winter(In millimeter)                                                  345 non-null    int64  \n",
      " 4   Monthly Average Min Temp. Winter(In Celsius)                                             345 non-null    float64\n",
      " 5   Monthly Average Max Temp. Winter(In Celsius)                                             345 non-null    float64\n",
      " 6   Soil Type (Non-calcareous Alluvium)                                                      345 non-null    int64  \n",
      " 7   Soil Type (Calcareous Alluvium)                                                          345 non-null    int64  \n",
      " 8   Soil Type (Acid Sulphate Soils)                                                          345 non-null    int64  \n",
      " 9   Soil Type (Peat)                                                                         345 non-null    int64  \n",
      " 10  Soil Type (Grey Floodplain Soils)                                                        345 non-null    int64  \n",
      " 11  Soil Type (Grey Floodplain Soils and Non-Calcareous brown floodplain soils)              345 non-null    int64  \n",
      " 12  Soil Type (Mixed grey, Dark grey and Brown Floodplain soils)                             345 non-null    int64  \n",
      " 13  Soil Type (Grey Floodplain soils and Non-calcareous Dark grey floodplain soils)          345 non-null    int64  \n",
      " 14  Soil Type (Grey Floodplain Soils and Acid basin clays)                                   345 non-null    int64  \n",
      " 15  Soil Type (Grey Piedmont Soils)                                                          345 non-null    int64  \n",
      " 16  Soil Type (Acid basin clays)                                                             345 non-null    int64  \n",
      " 17  Soil Type (Non-Calcareous Dark grey Floodplain soils)                                    345 non-null    int64  \n",
      " 18  Soil Type (Calcareous dark grey floodplain soils and calcareous brown floodplain soils)  345 non-null    int64  \n",
      " 19  Soil Type (Calcareous dark grey floodplain soils with lime kankar)                       345 non-null    int64  \n",
      " 20  Soil Type (Non-calcareous brown floodplain soils and grey floodplain soils)              345 non-null    int64  \n",
      " 21  Soil Type (Black Terai soils)                                                            345 non-null    int64  \n",
      " 22  Soil Type (Brown Hill soils)                                                             345 non-null    int64  \n",
      " 23  Soil Type (Red-brown Terrace soils)                                                      345 non-null    int64  \n",
      " 24  Soil Type (Grey Terrace soils)                                                           345 non-null    int64  \n",
      "dtypes: float64(3), int64(20), object(2)\n",
      "memory usage: 70.1+ KB\n",
      "<class 'pandas.core.frame.DataFrame'>\n",
      "Int64Index: 345 entries, 0 to 383\n",
      "Data columns (total 93 columns):\n",
      " #   Column                                                                                   Non-Null Count  Dtype  \n",
      "---  ------                                                                                   --------------  -----  \n",
      " 0   Relative Humidity Winter                                                                 345 non-null    float64\n",
      " 1   Total Rainfall in Winter(In millimeter)                                                  345 non-null    int64  \n",
      " 2   Monthly Average Min Temp. Winter(In Celsius)                                             345 non-null    float64\n",
      " 3   Monthly Average Max Temp. Winter(In Celsius)                                             345 non-null    float64\n",
      " 4   Soil Type (Non-calcareous Alluvium)                                                      345 non-null    int64  \n",
      " 5   Soil Type (Calcareous Alluvium)                                                          345 non-null    int64  \n",
      " 6   Soil Type (Acid Sulphate Soils)                                                          345 non-null    int64  \n",
      " 7   Soil Type (Peat)                                                                         345 non-null    int64  \n",
      " 8   Soil Type (Grey Floodplain Soils)                                                        345 non-null    int64  \n",
      " 9   Soil Type (Grey Floodplain Soils and Non-Calcareous brown floodplain soils)              345 non-null    int64  \n",
      " 10  Soil Type (Mixed grey, Dark grey and Brown Floodplain soils)                             345 non-null    int64  \n",
      " 11  Soil Type (Grey Floodplain soils and Non-calcareous Dark grey floodplain soils)          345 non-null    int64  \n",
      " 12  Soil Type (Grey Floodplain Soils and Acid basin clays)                                   345 non-null    int64  \n",
      " 13  Soil Type (Grey Piedmont Soils)                                                          345 non-null    int64  \n",
      " 14  Soil Type (Acid basin clays)                                                             345 non-null    int64  \n",
      " 15  Soil Type (Non-Calcareous Dark grey Floodplain soils)                                    345 non-null    int64  \n",
      " 16  Soil Type (Calcareous dark grey floodplain soils and calcareous brown floodplain soils)  345 non-null    int64  \n",
      " 17  Soil Type (Calcareous dark grey floodplain soils with lime kankar)                       345 non-null    int64  \n",
      " 18  Soil Type (Non-calcareous brown floodplain soils and grey floodplain soils)              345 non-null    int64  \n",
      " 19  Soil Type (Black Terai soils)                                                            345 non-null    int64  \n",
      " 20  Soil Type (Brown Hill soils)                                                             345 non-null    int64  \n",
      " 21  Soil Type (Red-brown Terrace soils)                                                      345 non-null    int64  \n",
      " 22  Soil Type (Grey Terrace soils)                                                           345 non-null    int64  \n",
      " 23  District_Bandarban                                                                       345 non-null    uint8  \n",
      " 24  District_Barguna                                                                         345 non-null    uint8  \n",
      " 25  District_Barishal                                                                        345 non-null    uint8  \n",
      " 26  District_Bhola                                                                           345 non-null    uint8  \n",
      " 27  District_Bogura                                                                          345 non-null    uint8  \n",
      " 28  District_Brahmanbaria                                                                    345 non-null    uint8  \n",
      " 29  District_Chandpur                                                                        345 non-null    uint8  \n",
      " 30  District_Chapai Nawabgonj                                                                345 non-null    uint8  \n",
      " 31  District_Chattogram                                                                      345 non-null    uint8  \n",
      " 32  District_Chuadanga                                                                       345 non-null    uint8  \n",
      " 33  District_Cox' Bazar                                                                      345 non-null    uint8  \n",
      " 34  District_Cumilla                                                                         345 non-null    uint8  \n",
      " 35  District_Dhaka                                                                           345 non-null    uint8  \n",
      " 36  District_Dinajpur                                                                        345 non-null    uint8  \n",
      " 37  District_Faridpur                                                                        345 non-null    uint8  \n",
      " 38  District_Feni                                                                            345 non-null    uint8  \n",
      " 39  District_Gaibandha                                                                       345 non-null    uint8  \n",
      " 40  District_Gazipur                                                                         345 non-null    uint8  \n",
      " 41  District_Gopalgonj                                                                       345 non-null    uint8  \n",
      " 42  District_Hobigonj                                                                        345 non-null    uint8  \n",
      " 43  District_Jamalpur                                                                        345 non-null    uint8  \n",
      " 44  District_Jashore                                                                         345 non-null    uint8  \n",
      " 45  District_Jhalakathi                                                                      345 non-null    uint8  \n",
      " 46  District_Jhenaidah                                                                       345 non-null    uint8  \n",
      " 47  District_Joypurhat                                                                       345 non-null    uint8  \n",
      " 48  District_Khagrachari                                                                     345 non-null    uint8  \n",
      " 49  District_Khulna                                                                          345 non-null    uint8  \n",
      " 50  District_Kishoregonj                                                                     345 non-null    uint8  \n",
      " 51  District_Kurigram                                                                        345 non-null    uint8  \n",
      " 52  District_Kushtia                                                                         345 non-null    uint8  \n",
      " 53  District_Laksmipur                                                                       345 non-null    uint8  \n",
      " 54  District_Lalmonirhat                                                                     345 non-null    uint8  \n",
      " 55  District_Madaripur                                                                       345 non-null    uint8  \n",
      " 56  District_Magura                                                                          345 non-null    uint8  \n",
      " 57  District_Manikgonj                                                                       345 non-null    uint8  \n",
      " 58  District_Maulavibazar                                                                    345 non-null    uint8  \n",
      " 59  District_Meherpur                                                                        345 non-null    uint8  \n",
      " 60  District_Munsigonj                                                                       345 non-null    uint8  \n",
      " 61  District_Mymensingh                                                                      345 non-null    uint8  \n",
      " 62  District_Naogaon                                                                         345 non-null    uint8  \n",
      " 63  District_Narail                                                                          345 non-null    uint8  \n",
      " 64  District_Narayanganj                                                                     345 non-null    uint8  \n",
      " 65  District_Narsingdi                                                                       345 non-null    uint8  \n",
      " 66  District_Natore                                                                          345 non-null    uint8  \n",
      " 67  District_Netrokona                                                                       345 non-null    uint8  \n",
      " 68  District_Nilphamari                                                                      345 non-null    uint8  \n",
      " 69  District_Noakhali                                                                        345 non-null    uint8  \n",
      " 70  District_Pabna                                                                           345 non-null    uint8  \n",
      " 71  District_Panchagar                                                                       345 non-null    uint8  \n",
      " 72  District_Patuakhali                                                                      345 non-null    uint8  \n",
      " 73  District_Pirojpur                                                                        345 non-null    uint8  \n",
      " 74  District_Rajbari                                                                         345 non-null    uint8  \n",
      " 75  District_Rajshahi                                                                        345 non-null    uint8  \n",
      " 76  District_Rangamati                                                                       345 non-null    uint8  \n",
      " 77  District_Rangpur                                                                         345 non-null    uint8  \n",
      " 78  District_Satkhira                                                                        345 non-null    uint8  \n",
      " 79  District_Shariatpur                                                                      345 non-null    uint8  \n",
      " 80  District_Sherpur                                                                         345 non-null    uint8  \n",
      " 81  District_Sirajgonj                                                                       345 non-null    uint8  \n",
      " 82  District_Sunamgonj                                                                       345 non-null    uint8  \n",
      " 83  District_Sylhet                                                                          345 non-null    uint8  \n",
      " 84  District_Tangail                                                                         345 non-null    uint8  \n",
      " 85  District_Thakurgaon                                                                      345 non-null    uint8  \n",
      " 86  Year_2014-15                                                                             345 non-null    uint8  \n",
      " 87  Year_2015-16                                                                             345 non-null    uint8  \n",
      " 88  Year_2016-17                                                                             345 non-null    uint8  \n",
      " 89  Year_2017-18                                                                             345 non-null    uint8  \n",
      " 90  Year_2017-18                                                                             345 non-null    uint8  \n",
      " 91  Year_2018-19                                                                             345 non-null    uint8  \n",
      " 92  Year_2018-19                                                                             345 non-null    uint8  \n",
      "dtypes: float64(3), int64(20), uint8(70)\n",
      "memory usage: 88.3 KB\n"
     ]
    }
   ],
   "source": [
    "df_x = df\n",
    "df_x = df_x.drop(df_x.columns[[2]], axis = 1, inplace = False)\n",
    "df_x.info()\n",
    "\n",
    "df_x = pd.get_dummies(df_x, prefix=['District', 'Year'], columns=['District', 'Year'], drop_first = True)\n",
    "df_x.info()"
   ]
  },
  {
   "cell_type": "code",
   "execution_count": 5,
   "id": "annual-disaster",
   "metadata": {
    "execution": {
     "iopub.execute_input": "2021-05-30T18:45:52.308115Z",
     "iopub.status.busy": "2021-05-30T18:45:52.307315Z",
     "iopub.status.idle": "2021-05-30T18:45:52.311366Z",
     "shell.execute_reply": "2021-05-30T18:45:52.310797Z",
     "shell.execute_reply.started": "2021-05-30T18:44:35.930529Z"
    },
    "papermill": {
     "duration": 0.016145,
     "end_time": "2021-05-30T18:45:52.311475",
     "exception": false,
     "start_time": "2021-05-30T18:45:52.295330",
     "status": "completed"
    },
    "tags": []
   },
   "outputs": [],
   "source": [
    "# import seaborn as sn\n",
    "# import matplotlib.pyplot as plt\n",
    "\n",
    "# plt.figure(figsize = (100, 80))\n",
    "# sn.heatmap(df_x.corr(), annot = True)"
   ]
  },
  {
   "cell_type": "code",
   "execution_count": 6,
   "id": "smooth-florist",
   "metadata": {
    "execution": {
     "iopub.execute_input": "2021-05-30T18:45:52.334278Z",
     "iopub.status.busy": "2021-05-30T18:45:52.333619Z",
     "iopub.status.idle": "2021-05-30T18:45:52.336087Z",
     "shell.execute_reply": "2021-05-30T18:45:52.335649Z",
     "shell.execute_reply.started": "2021-05-30T18:44:35.935420Z"
    },
    "papermill": {
     "duration": 0.014912,
     "end_time": "2021-05-30T18:45:52.336183",
     "exception": false,
     "start_time": "2021-05-30T18:45:52.321271",
     "status": "completed"
    },
    "tags": []
   },
   "outputs": [],
   "source": [
    "# df_x = df_x.drop('Year_2016-17', axis = 1)\n",
    "\n",
    "# plt.figure(figsize = (100, 80))\n",
    "# sn.heatmap(df_x.corr(), annot = True)"
   ]
  },
  {
   "cell_type": "code",
   "execution_count": 7,
   "id": "separate-jones",
   "metadata": {
    "execution": {
     "iopub.execute_input": "2021-05-30T18:45:52.357832Z",
     "iopub.status.busy": "2021-05-30T18:45:52.357362Z",
     "iopub.status.idle": "2021-05-30T18:45:52.360523Z",
     "shell.execute_reply": "2021-05-30T18:45:52.360915Z",
     "shell.execute_reply.started": "2021-05-30T18:44:35.949802Z"
    },
    "papermill": {
     "duration": 0.015001,
     "end_time": "2021-05-30T18:45:52.361025",
     "exception": false,
     "start_time": "2021-05-30T18:45:52.346024",
     "status": "completed"
    },
    "tags": []
   },
   "outputs": [],
   "source": [
    "# df_x = df_x.drop('Total Rainfall in Summer(In millimeter)', axis = 1)"
   ]
  },
  {
   "cell_type": "code",
   "execution_count": 8,
   "id": "frozen-cyprus",
   "metadata": {
    "execution": {
     "iopub.execute_input": "2021-05-30T18:45:52.384441Z",
     "iopub.status.busy": "2021-05-30T18:45:52.383875Z",
     "iopub.status.idle": "2021-05-30T18:45:52.387746Z",
     "shell.execute_reply": "2021-05-30T18:45:52.388097Z",
     "shell.execute_reply.started": "2021-05-30T18:44:35.962752Z"
    },
    "papermill": {
     "duration": 0.017452,
     "end_time": "2021-05-30T18:45:52.388208",
     "exception": false,
     "start_time": "2021-05-30T18:45:52.370756",
     "status": "completed"
    },
    "tags": []
   },
   "outputs": [],
   "source": [
    "x = df_x.iloc[:,:].values\n",
    "y = df.iloc[:,2].values"
   ]
  },
  {
   "cell_type": "code",
   "execution_count": 9,
   "id": "qualified-disease",
   "metadata": {
    "execution": {
     "iopub.execute_input": "2021-05-30T18:45:52.413576Z",
     "iopub.status.busy": "2021-05-30T18:45:52.413039Z",
     "iopub.status.idle": "2021-05-30T18:46:05.999923Z",
     "shell.execute_reply": "2021-05-30T18:46:05.999468Z",
     "shell.execute_reply.started": "2021-05-30T18:44:35.984472Z"
    },
    "papermill": {
     "duration": 13.60206,
     "end_time": "2021-05-30T18:46:06.000044",
     "exception": false,
     "start_time": "2021-05-30T18:45:52.397984",
     "status": "completed"
    },
    "tags": []
   },
   "outputs": [
    {
     "name": "stdout",
     "output_type": "stream",
     "text": [
      "Mean Absolute Error: 18.700178260869485\n",
      "Mean Squared Error: 5.90134579436953\n",
      "Root Mean Squared Error: 24.292685718893928\n",
      "R2 Score: 78.68062029972454\n"
     ]
    }
   ],
   "source": [
    "from sklearn.model_selection import train_test_split\n",
    "\n",
    "x_train, x_test, y_train, y_test = train_test_split(x, y, test_size = .2, random_state = 0)\n",
    "\n",
    "from sklearn.ensemble import RandomForestRegressor\n",
    "from sklearn import metrics\n",
    "from sklearn.metrics import r2_score\n",
    "import numpy as np\n",
    "\n",
    "regressor = RandomForestRegressor(n_estimators = 500, random_state = 0, criterion = 'mae', max_features = 'auto')\n",
    "\n",
    "y_pred = regressor.fit(x_train, y_train).predict(x_test)\n",
    "\n",
    "print('Mean Absolute Error:', metrics.mean_absolute_error(y_test, y_pred) * 100)\n",
    "print('Mean Squared Error:', metrics.mean_squared_error(y_test, y_pred) * 100)\n",
    "print('Root Mean Squared Error:', np.sqrt(metrics.mean_squared_error(y_test, y_pred)) * 100)\n",
    "print('R2 Score:', r2_score(y_test, y_pred) * 100)"
   ]
  },
  {
   "cell_type": "code",
   "execution_count": 10,
   "id": "alien-lighting",
   "metadata": {
    "execution": {
     "iopub.execute_input": "2021-05-30T18:46:06.028409Z",
     "iopub.status.busy": "2021-05-30T18:46:06.027551Z",
     "iopub.status.idle": "2021-05-30T18:46:14.171433Z",
     "shell.execute_reply": "2021-05-30T18:46:14.170860Z",
     "shell.execute_reply.started": "2021-05-30T18:44:51.478676Z"
    },
    "papermill": {
     "duration": 8.160923,
     "end_time": "2021-05-30T18:46:14.171576",
     "exception": false,
     "start_time": "2021-05-30T18:46:06.010653",
     "status": "completed"
    },
    "tags": []
   },
   "outputs": [
    {
     "name": "stdout",
     "output_type": "stream",
     "text": [
      "Mean Absolute Error: 12.85067657853309\n",
      "Mean Squared Error: 2.790485255608215\n",
      "Root Mean Squared Error: 16.704745600003058\n",
      "R2 Score: 89.91900885233798\n"
     ]
    }
   ],
   "source": [
    "from sklearn.model_selection import train_test_split\n",
    "\n",
    "x_train, x_test, y_train, y_test = train_test_split(x, y, test_size = .2, random_state = 0)\n",
    "\n",
    "from sklearn.svm import SVR\n",
    "\n",
    "svr = SVR(kernel = 'linear', C = 0.7, epsilon = 0)\n",
    "\n",
    "y_pred = svr.fit(x_train, y_train).predict(x_test)\n",
    "\n",
    "print('Mean Absolute Error:', metrics.mean_absolute_error(y_test, y_pred) * 100)\n",
    "print('Mean Squared Error:', metrics.mean_squared_error(y_test, y_pred) * 100)\n",
    "print('Root Mean Squared Error:', np.sqrt(metrics.mean_squared_error(y_test, y_pred)) * 100)\n",
    "print('R2 Score:', r2_score(y_test, y_pred) * 100)"
   ]
  },
  {
   "cell_type": "code",
   "execution_count": 11,
   "id": "entertaining-prague",
   "metadata": {
    "execution": {
     "iopub.execute_input": "2021-05-30T18:46:14.199216Z",
     "iopub.status.busy": "2021-05-30T18:46:14.198721Z",
     "iopub.status.idle": "2021-05-30T18:46:35.421890Z",
     "shell.execute_reply": "2021-05-30T18:46:35.421453Z",
     "shell.execute_reply.started": "2021-05-30T18:45:01.066148Z"
    },
    "papermill": {
     "duration": 21.239694,
     "end_time": "2021-05-30T18:46:35.422009",
     "exception": false,
     "start_time": "2021-05-30T18:46:14.182315",
     "status": "completed"
    },
    "tags": []
   },
   "outputs": [
    {
     "name": "stdout",
     "output_type": "stream",
     "text": [
      "Mean Absolute Error: 14.533026596685925\n",
      "Mean Squared Error: 3.6058710852288156\n",
      "Root Mean Squared Error: 18.989131326179233\n",
      "R2 Score: 86.97332142617643\n"
     ]
    }
   ],
   "source": [
    "from sklearn.model_selection import train_test_split\n",
    "\n",
    "x_train, x_test, y_train, y_test = train_test_split(x, y, test_size = .2, random_state = 0)\n",
    "\n",
    "from sklearn.ensemble import VotingRegressor\n",
    "\n",
    "r1 = RandomForestRegressor(n_estimators = 500, random_state = 0, criterion = 'mae', max_features = 'auto')\n",
    "r2 = SVR(kernel = 'linear', C = .7, epsilon = 0)\n",
    "\n",
    "er = VotingRegressor([('rf', r1), ('svr', r2)])\n",
    "\n",
    "y_pred = er.fit(x_train, y_train).predict(x_test)\n",
    "\n",
    "print('Mean Absolute Error:', metrics.mean_absolute_error(y_test, y_pred) * 100)\n",
    "print('Mean Squared Error:', metrics.mean_squared_error(y_test, y_pred) * 100)\n",
    "print('Root Mean Squared Error:', np.sqrt(metrics.mean_squared_error(y_test, y_pred)) * 100)\n",
    "print('R2 Score:', r2_score(y_test, y_pred) * 100)"
   ]
  }
 ],
 "metadata": {
  "kernelspec": {
   "display_name": "Python 3",
   "language": "python",
   "name": "python3"
  },
  "language_info": {
   "codemirror_mode": {
    "name": "ipython",
    "version": 3
   },
   "file_extension": ".py",
   "mimetype": "text/x-python",
   "name": "python",
   "nbconvert_exporter": "python",
   "pygments_lexer": "ipython3",
   "version": "3.7.10"
  },
  "papermill": {
   "default_parameters": {},
   "duration": 51.352192,
   "end_time": "2021-05-30T18:46:36.041164",
   "environment_variables": {},
   "exception": null,
   "input_path": "__notebook__.ipynb",
   "output_path": "__notebook__.ipynb",
   "parameters": {},
   "start_time": "2021-05-30T18:45:44.688972",
   "version": "2.3.3"
  }
 },
 "nbformat": 4,
 "nbformat_minor": 5
}
